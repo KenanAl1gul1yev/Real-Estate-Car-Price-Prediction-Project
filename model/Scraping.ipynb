{
 "cells": [
  {
   "cell_type": "code",
   "execution_count": 2,
   "id": "e1ab5ba1",
   "metadata": {},
   "outputs": [],
   "source": [
    "from bs4 import BeautifulSoup\n",
    "import requests\n",
    "import pandas as pd"
   ]
  },
  {
   "cell_type": "code",
   "execution_count": 3,
   "id": "f41225c0",
   "metadata": {},
   "outputs": [],
   "source": [
    "import pandas as pd\n",
    "import sqlalchemy\n",
    "\n",
    "Server = \"localhost\"\n",
    "Database = \"Turbo_AZ\"\n",
    "Driver = \"ODBC Driver 17 for SQL Server\" # in order to get this info, click Win + S and write 'odbc', then open drivers menu and scroll down\n",
    "engine = sqlalchemy.create_engine(f'mssql://@{Server}/{Database}?driver={Driver}')"
   ]
  },
  {
   "cell_type": "code",
   "execution_count": 9,
   "id": "c9789100",
   "metadata": {
    "scrolled": true
   },
   "outputs": [
    {
     "name": "stdout",
     "output_type": "stream",
     "text": [
      "====================================\tPage_1 scrapped\tDf added to DB\n"
     ]
    }
   ],
   "source": [
    "baseurl = 'https://turbo.az' \n",
    "headers = {\n",
    "    'User-Agent' : 'Mozilla/5.0 (Windows NT 10.0; Win64; x64) AppleWebKit/537.36 (KHTML, like Gecko) Chrome/122.0.0.0 Safari/537.36',\n",
    "}\n",
    "\n",
    "for p in range(1, 416):\n",
    "    r = requests.get(f'https://turbo.az/autos?page={p}', headers = headers)\n",
    "    soup = BeautifulSoup(r.content, 'lxml')\n",
    "    productlist = soup.find_all('div', class_ = 'products-i')\n",
    "    \n",
    "    productlinks = []\n",
    "\n",
    "    products = {\n",
    "    'Model' : [],\n",
    "    'Year' : [],\n",
    "    'Engine_Volume' : [],\n",
    "    'Engine_Type': [],\n",
    "    'Horse_Power': [],\n",
    "    'Gearbox': [],\n",
    "    'Transmitter': [],\n",
    "    'Mileage' : [],\n",
    "    'Price' : [],\n",
    "    }\n",
    "\n",
    "    for item in productlist:\n",
    "        links = item.find_all('a', class_ = 'products-i__link', href = True)\n",
    "        productlinks.append(baseurl + links[0]['href'])\n",
    "    \n",
    "    for link in productlinks:\n",
    "        try:\n",
    "            r = requests.get(link, headers = headers)\n",
    "            soup = BeautifulSoup(r.content, 'lxml')\n",
    "            properties = soup.find_all('div', class_ = 'product-properties__i')\n",
    "\n",
    "            price_text = soup.find('div', class_ = 'product-price__i product-price__i--bold').get_text(strip = True)\n",
    "            products['Price'].append(price_text)\n",
    "\n",
    "            labels = {}        \n",
    "            for property in properties:\n",
    "                lbl = property.find('label', class_ = 'product-properties__i-name').get_text(strip = True)\n",
    "                spn = property.find('span', class_ = 'product-properties__i-value').get_text(strip = True)\n",
    "                labels[lbl] = spn\n",
    "            marka_text = labels.get('Marka', 'null')\n",
    "            model_text = labels.get('Model', 'null')\n",
    "            products['Model'].append(f'{marka_text} {model_text}')\n",
    "            products['Year'].append(int(labels.get('Buraxılış ili', 'null')))\n",
    "            products['Engine_Volume'].append(float((labels.get('Mühərrik', 'null').split('/')[0]).split(' ')[0]))\n",
    "            products['Engine_Type'].append(labels.get('Mühərrik', 'null').split('/')[2])\n",
    "            products['Horse_Power'].append(float((labels.get('Mühərrik', 'null').split('/')[1]).split(' ')[0]))\n",
    "            products['Gearbox'].append(labels.get('Sürətlər qutusu', 'null'))\n",
    "            products['Transmitter'].append(labels.get('Ötürücü', 'null'))\n",
    "            products['Mileage'].append(int(\"\".join(labels.get('Yürüş', 'null').split(' '))[0:-2]))\n",
    "            print('=', end = '')\n",
    "        except:\n",
    "            print('_', end = '')\n",
    "    print(f'\\tPage_{p} scrapped', end = '')\n",
    "    df = pd.DataFrame(products)\n",
    "    df.to_sql(\n",
    "    name = 'Cars',\n",
    "    con = engine,\n",
    "    index = False,\n",
    "    if_exists = \"append\",\n",
    "    dtype={'Model': sqlalchemy.types.Unicode,\n",
    "           'Engine_Type': sqlalchemy.types.Unicode,\n",
    "           'Gearbox': sqlalchemy.types.Unicode,\n",
    "           'Transmitter': sqlalchemy.types.Unicode}\n",
    "    )\n",
    "    print(f'\\tDf added to DB')"
   ]
  },
  {
   "cell_type": "code",
   "execution_count": null,
   "id": "b5cd61ba",
   "metadata": {},
   "outputs": [],
   "source": []
  }
 ],
 "metadata": {
  "kernelspec": {
   "display_name": "Python 3 (ipykernel)",
   "language": "python",
   "name": "python3"
  },
  "language_info": {
   "codemirror_mode": {
    "name": "ipython",
    "version": 3
   },
   "file_extension": ".py",
   "mimetype": "text/x-python",
   "name": "python",
   "nbconvert_exporter": "python",
   "pygments_lexer": "ipython3",
   "version": "3.11.5"
  }
 },
 "nbformat": 4,
 "nbformat_minor": 5
}
