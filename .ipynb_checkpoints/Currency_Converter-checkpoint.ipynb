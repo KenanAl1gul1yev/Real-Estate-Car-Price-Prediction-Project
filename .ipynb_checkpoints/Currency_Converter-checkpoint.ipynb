{
 "cells": [
  {
   "cell_type": "code",
   "execution_count": 1,
   "id": "2d5d58ea",
   "metadata": {},
   "outputs": [],
   "source": [
    "from bs4 import BeautifulSoup\n",
    "import requests"
   ]
  },
  {
   "cell_type": "code",
   "execution_count": 9,
   "id": "733c91a6",
   "metadata": {},
   "outputs": [],
   "source": [
    "headers = {\n",
    "    'User-Agent' : 'Mozilla/5.0 (Windows NT 10.0; Win64; x64) AppleWebKit/537.36 (KHTML, like Gecko) Chrome/122.0.0.0 Safari/537.36',\n",
    "}\n",
    "def converter(amount: int, from_cur: str, to_cur: str):\n",
    "    r = requests.get(f'https://www.xe.com/currencyconverter/convert/?Amount={amount}&From={from_cur}&To={to_cur}', headers = headers)\n",
    "    soup = BeautifulSoup(r.content, 'lxml')\n",
    "    res = soup.find('p', class_ = 'result__BigRate-sc-1bsijpp-1 dPdXSB').get_text(strip = True)\n",
    "    return float(res[:4])"
   ]
  },
  {
   "cell_type": "code",
   "execution_count": 11,
   "id": "6fcb99fa",
   "metadata": {},
   "outputs": [
    {
     "data": {
      "text/plain": [
       "1.84"
      ]
     },
     "execution_count": 11,
     "metadata": {},
     "output_type": "execute_result"
    }
   ],
   "source": [
    "converter(1, 'EUR', 'AZN')"
   ]
  },
  {
   "cell_type": "code",
   "execution_count": null,
   "id": "e7a6b602",
   "metadata": {},
   "outputs": [],
   "source": []
  }
 ],
 "metadata": {
  "kernelspec": {
   "display_name": "Python 3 (ipykernel)",
   "language": "python",
   "name": "python3"
  },
  "language_info": {
   "codemirror_mode": {
    "name": "ipython",
    "version": 3
   },
   "file_extension": ".py",
   "mimetype": "text/x-python",
   "name": "python",
   "nbconvert_exporter": "python",
   "pygments_lexer": "ipython3",
   "version": "3.11.5"
  }
 },
 "nbformat": 4,
 "nbformat_minor": 5
}
